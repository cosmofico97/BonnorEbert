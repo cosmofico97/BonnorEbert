{
 "cells": [
  {
   "cell_type": "code",
   "execution_count": 34,
   "metadata": {},
   "outputs": [],
   "source": [
    "import numpy as np\n",
    "from matplotlib import pyplot as plt\n",
    "from astropy.table import Table\n",
    "import scipy.constants as cnst\n",
    "import emcee\n",
    "import corner\n",
    "\n",
    "import matplotlib as mpl\n",
    "mpl.rcParams['axes.titlesize'] = 16\n",
    "mpl.rcParams['axes.labelsize'] = 14\n",
    "mpl.rcParams['legend.fontsize'] = 12\n",
    "mpl.rcParams['xtick.labelsize'] = 12\n",
    "mpl.rcParams['ytick.labelsize'] = 12\n",
    "#mpl.rcParams['axes.spines.right'] = False\n",
    "#mpl.rcParams['axes.spines.top'] = False"
   ]
  },
  {
   "cell_type": "code",
   "execution_count": 35,
   "metadata": {},
   "outputs": [
    {
     "data": {
      "text/html": [
       "<i>Table length=5000</i>\n",
       "<table id=\"table140224004945424\" class=\"table-striped table-bordered table-condensed\">\n",
       "<thead><tr><th>indice</th><th>csi</th><th>theta</th></tr></thead>\n",
       "<thead><tr><th>int64</th><th>float64</th><th>float64</th></tr></thead>\n",
       "<tr><td>0</td><td>2.0</td><td>1.0</td></tr>\n",
       "<tr><td>1</td><td>2.001</td><td>1.0</td></tr>\n",
       "<tr><td>2</td><td>2.002</td><td>1.0</td></tr>\n",
       "<tr><td>3</td><td>2.003</td><td>0.999999</td></tr>\n",
       "<tr><td>4</td><td>2.004</td><td>0.999997</td></tr>\n",
       "<tr><td>5</td><td>2.005</td><td>0.999995</td></tr>\n",
       "<tr><td>6</td><td>2.006</td><td>0.999993</td></tr>\n",
       "<tr><td>7</td><td>2.007</td><td>0.99999</td></tr>\n",
       "<tr><td>8</td><td>2.008</td><td>0.999986</td></tr>\n",
       "<tr><td>9</td><td>2.009</td><td>0.999982</td></tr>\n",
       "<tr><td>...</td><td>...</td><td>...</td></tr>\n",
       "<tr><td>4990</td><td>6.99</td><td>-0.137934</td></tr>\n",
       "<tr><td>4991</td><td>6.991</td><td>-0.138077</td></tr>\n",
       "<tr><td>4992</td><td>6.992</td><td>-0.138219</td></tr>\n",
       "<tr><td>4993</td><td>6.993</td><td>-0.138361</td></tr>\n",
       "<tr><td>4994</td><td>6.994</td><td>-0.138504</td></tr>\n",
       "<tr><td>4995</td><td>6.995</td><td>-0.138646</td></tr>\n",
       "<tr><td>4996</td><td>6.996</td><td>-0.138788</td></tr>\n",
       "<tr><td>4997</td><td>6.997</td><td>-0.13893</td></tr>\n",
       "<tr><td>4998</td><td>6.998</td><td>-0.139072</td></tr>\n",
       "<tr><td>4999</td><td>6.999</td><td>-0.139214</td></tr>\n",
       "</table>"
      ],
      "text/plain": [
       "<Table length=5000>\n",
       "indice   csi     theta  \n",
       "int64  float64  float64 \n",
       "------ ------- ---------\n",
       "     0     2.0       1.0\n",
       "     1   2.001       1.0\n",
       "     2   2.002       1.0\n",
       "     3   2.003  0.999999\n",
       "     4   2.004  0.999997\n",
       "     5   2.005  0.999995\n",
       "     6   2.006  0.999993\n",
       "     7   2.007   0.99999\n",
       "     8   2.008  0.999986\n",
       "     9   2.009  0.999982\n",
       "   ...     ...       ...\n",
       "  4990    6.99 -0.137934\n",
       "  4991   6.991 -0.138077\n",
       "  4992   6.992 -0.138219\n",
       "  4993   6.993 -0.138361\n",
       "  4994   6.994 -0.138504\n",
       "  4995   6.995 -0.138646\n",
       "  4996   6.996 -0.138788\n",
       "  4997   6.997  -0.13893\n",
       "  4998   6.998 -0.139072\n",
       "  4999   6.999 -0.139214"
      ]
     },
     "execution_count": 35,
     "metadata": {},
     "output_type": "execute_result"
    }
   ],
   "source": [
    "NOMI = np.array([\"indice\", \"csi\", \"theta\"])\n",
    "table = Table.read('LE_Eulero.dat', names = NOMI,  format=\"ascii\")\n",
    "table"
   ]
  },
  {
   "cell_type": "code",
   "execution_count": 36,
   "metadata": {},
   "outputs": [],
   "source": [
    "ORDINE = {nome: i for i,nome in enumerate(NOMI)}\n",
    "\n",
    "data = np.array( [ table[nome] for nome in NOMI  ] ).T"
   ]
  },
  {
   "cell_type": "code",
   "execution_count": 37,
   "metadata": {},
   "outputs": [],
   "source": [
    "indici = data[:, ORDINE[\"indice\"] ]\n",
    "csis = data[:, ORDINE[\"csi\"] ]\n",
    "thetas = data[:, ORDINE[\"theta\"] ]"
   ]
  },
  {
   "cell_type": "code",
   "execution_count": 43,
   "metadata": {},
   "outputs": [
    {
     "data": {
      "image/png": "[encoded data removed]",
      "text/plain": [
       "<Figure size 720x576 with 1 Axes>"
      ]
     },
     "metadata": {
      "needs_background": "light"
     },
     "output_type": "display_data"
    }
   ],
   "source": [
    "SIZE_ticks = 15\n",
    "SIZE_labels = 20\n",
    "\n",
    "fig = plt.figure(figsize=(10,8))\n",
    "\n",
    "plt.plot(csis, thetas, '.')\n",
    "plt.grid()\n",
    "#plt.xticks(np.arange(14,20,1), size=SIZE_2)\n",
    "#plt.yticks(np.arange(0,10,2), size=SIZE_2)\n",
    "plt.xticks(size=SIZE_ticks)\n",
    "plt.yticks(size=SIZE_ticks)\n",
    "plt.xlabel(r'$\\xi$', size=SIZE_labels)\n",
    "plt.ylabel(r'$\\theta(\\xi)$', size=SIZE_labels);"
   ]
  },
  {
   "cell_type": "code",
   "execution_count": null,
   "metadata": {},
   "outputs": [],
   "source": []
  }
 ],
 "metadata": {
  "kernelspec": {
   "display_name": "Python 3",
   "language": "python",
   "name": "python3"
  },
  "language_info": {
   "codemirror_mode": {
    "name": "ipython",
    "version": 3
   },
   "file_extension": ".py",
   "mimetype": "text/x-python",
   "name": "python",
   "nbconvert_exporter": "python",
   "pygments_lexer": "ipython3",
   "version": "3.7.6"
  }
 },
 "nbformat": 4,
 "nbformat_minor": 4
}
